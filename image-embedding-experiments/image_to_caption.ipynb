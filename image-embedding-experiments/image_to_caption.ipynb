{
 "cells": [
  {
   "cell_type": "code",
   "execution_count": 1,
   "metadata": {},
   "outputs": [],
   "source": [
    "import torch\n",
    "from PIL import Image\n",
    "from io import BytesIO\n",
    "import requests\n",
    "import matplotlib.pyplot as plt\n",
    "\n",
    "from transformers import (\n",
    "    CLIPProcessor,\n",
    "    CLIPModel,\n",
    "    BlipProcessor,\n",
    "    BlipForConditionalGeneration,\n",
    ")\n"
   ]
  },
  {
   "cell_type": "code",
   "execution_count": 2,
   "metadata": {},
   "outputs": [],
   "source": [
    "clip_ckpt = \"openai/clip-vit-base-patch32\"\n",
    "clip_model = CLIPModel.from_pretrained(clip_ckpt)\n",
    "clip_processor = CLIPProcessor.from_pretrained(clip_ckpt)\n",
    "\n",
    "device = \"cuda\" if torch.cuda.is_available() else \"cpu\"\n",
    "clip_model = clip_model.to(device).eval()\n"
   ]
  },
  {
   "cell_type": "code",
   "execution_count": 3,
   "metadata": {},
   "outputs": [],
   "source": [
    "blip_ckpt = \"Salesforce/blip-image-captioning-large\"\n",
    "blip_processor = BlipProcessor.from_pretrained(blip_ckpt)\n",
    "blip_model = BlipForConditionalGeneration.from_pretrained(blip_ckpt).to(device)"
   ]
  },
  {
   "cell_type": "code",
   "execution_count": 4,
   "metadata": {},
   "outputs": [],
   "source": [
    "def generate_caption(image_url):\n",
    "    \"\"\"Fetch an image from URL, generate a BLIP caption.\"\"\"\n",
    "    # Fetch the image\n",
    "    resp = requests.get(image_url)\n",
    "    if resp.status_code != 200:\n",
    "        print(f\"Could not fetch image: {image_url}\")\n",
    "        return None\n",
    "    \n",
    "    image = Image.open(BytesIO(resp.content)).convert(\"RGB\")\n",
    "    \n",
    "    # Prepare inputs for BLIP\n",
    "    inputs = blip_processor(image, return_tensors=\"pt\").to(device)\n",
    "    \n",
    "    # Generate caption\n",
    "    with torch.no_grad():\n",
    "        out = blip_model.generate(**inputs, max_length=50)\n",
    "    caption = blip_processor.decode(out[0], skip_special_tokens=True)\n",
    "    \n",
    "    return image, caption\n"
   ]
  },
  {
   "cell_type": "code",
   "execution_count": null,
   "metadata": {},
   "outputs": [],
   "source": [
    "reference_images = [\n",
    "    {\n",
    "        \"url\": \"https://images.unsplash.com/reserve/bOvf94dPRxWu0u3QsPjF_tree.jpg?q=80&w=1776&auto=format&fit=crop&ixlib=rb-4.0.3&ixid=M3wxMjA3fDB8MHxwaG90by1wYWdlfHx8fGVufDB8fHx8fA%3D%3D\",\n",
    "        \"tags\": [\"tree\", \"nature\"],\n",
    "    },\n",
    "    {\n",
    "        \"url\": \"https://images.unsplash.com/photo-1437964706703-40b90bdf563b?q=80&w=1974&auto=format&fit=crop&ixlib=rb-4.0.3&ixid=M3wxMjA3fDB8MHxwaG90by1wYWdlfHx8fGVufDB8fHx8fA%3D%3D\",\n",
    "        \"tags\": [\"tree\", \"forest\"],\n",
    "    },\n",
    "    {\n",
    "        \"url\": \"https://images.unsplash.com/photo-1444312645910-ffa973656eba?q=80&w=1887&auto=format&fit=crop&ixlib=rb-4.0.3&ixid=M3wxMjA3fDB8MHxwaG90by1wYWdlfHx8fGVufDB8fHx8fA%3D%3D\",\n",
    "        \"tags\": [\"rock\", \"outdoor\"],\n",
    "    },\n",
    "]\n",
    "\n",
    "num_images = len(reference_images)\n",
    "fig, axes = plt.subplots(1, num_images, figsize=(5*num_images, 5))\n",
    "\n",
    "for i, ref in enumerate(reference_images):\n",
    "    image_url = ref[\"url\"]\n",
    "    image, caption = generate_caption(image_url)\n",
    "    \n",
    "    axes[i].imshow(image)\n",
    "    axes[i].axis(\"off\")\n",
    "    # Truncate caption if it's too long for display\n",
    "    axes[i].set_title(f\"Caption:\\n{caption[:60] + '...' if len(caption) > 60 else caption}\")\n",
    "\n",
    "plt.tight_layout()\n",
    "plt.show()\n"
   ]
  },
  {
   "cell_type": "code",
   "execution_count": null,
   "metadata": {},
   "outputs": [],
   "source": []
  }
 ],
 "metadata": {
  "kernelspec": {
   "display_name": "Python 3 (ipykernel)",
   "language": "python",
   "name": "python3"
  },
  "language_info": {
   "codemirror_mode": {
    "name": "ipython",
    "version": 3
   },
   "file_extension": ".py",
   "mimetype": "text/x-python",
   "name": "python",
   "nbconvert_exporter": "python",
   "pygments_lexer": "ipython3",
   "version": "3.10.15"
  }
 },
 "nbformat": 4,
 "nbformat_minor": 4
}
